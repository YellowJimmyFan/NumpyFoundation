{
 "cells": [
  {
   "cell_type": "code",
   "execution_count": 1,
   "id": "0246bc9a-1ee2-48a9-8702-af39b62799de",
   "metadata": {},
   "outputs": [],
   "source": [
    "import numpy as np"
   ]
  },
  {
   "cell_type": "code",
   "execution_count": 4,
   "id": "a9b0fb45-60b0-49ed-b0c0-f969e6154eb5",
   "metadata": {},
   "outputs": [],
   "source": [
    "a = np.array([1, 2, 3, 4, 5, 6])\n",
    "np.save('April_12', a)"
   ]
  },
  {
   "cell_type": "code",
   "execution_count": 7,
   "id": "730a921c-2c34-42b7-a9fa-31b675d47659",
   "metadata": {},
   "outputs": [
    {
     "name": "stdout",
     "output_type": "stream",
     "text": [
      "a:\n",
      " [1 2 3 4 5 6]\n",
      "b:\n",
      " [1 2 3 4 5 6]\n"
     ]
    }
   ],
   "source": [
    "b = np.load('April_12.npy')\n",
    "print('a:\\n', a)\n",
    "print('b:\\n', b)"
   ]
  },
  {
   "cell_type": "code",
   "execution_count": 16,
   "id": "62015266-0eee-47dc-8d8c-03a74d417e84",
   "metadata": {},
   "outputs": [],
   "source": [
    "np.savetxt('April_12.csv', a, header=\"abc\", footer = \"cba\", delimiter = \"1\")"
   ]
  },
  {
   "cell_type": "code",
   "execution_count": 17,
   "id": "c8861ad1-aece-4a91-928f-8d47897f7b96",
   "metadata": {},
   "outputs": [
    {
     "name": "stdout",
     "output_type": "stream",
     "text": [
      "b2: \n",
      " [1. 2. 3. 4. 5. 6.]\n"
     ]
    }
   ],
   "source": [
    "b2 = np.loadtxt('April_12.csv')\n",
    "print('b2: \\n', b2)"
   ]
  },
  {
   "cell_type": "code",
   "execution_count": null,
   "id": "38553deb-b824-4ef7-ad7f-f26d15d26aa4",
   "metadata": {},
   "outputs": [],
   "source": []
  }
 ],
 "metadata": {
  "kernelspec": {
   "display_name": "Python 3 (ipykernel)",
   "language": "python",
   "name": "python3"
  },
  "language_info": {
   "codemirror_mode": {
    "name": "ipython",
    "version": 3
   },
   "file_extension": ".py",
   "mimetype": "text/x-python",
   "name": "python",
   "nbconvert_exporter": "python",
   "pygments_lexer": "ipython3",
   "version": "3.11.9"
  }
 },
 "nbformat": 4,
 "nbformat_minor": 5
}
