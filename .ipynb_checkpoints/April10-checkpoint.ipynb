{
 "cells": [
  {
   "cell_type": "code",
   "execution_count": 1,
   "id": "b147f9c5-44e3-4aa8-b78d-77f0c7c586e6",
   "metadata": {},
   "outputs": [],
   "source": [
    "import numpy as np"
   ]
  },
  {
   "cell_type": "code",
   "execution_count": 4,
   "id": "05d2b8e1-4b23-4422-be74-243b37ab67f0",
   "metadata": {},
   "outputs": [
    {
     "name": "stdout",
     "output_type": "stream",
     "text": [
      "[[[1 2 3]]\n",
      "\n",
      " [[7 8 9]]]\n",
      "[[[ 4  5  6]]\n",
      "\n",
      " [[10 11 12]]]\n"
     ]
    }
   ],
   "source": [
    "arr_3d = np.array([[[1, 2, 3], [4, 5, 6]],\n",
    "                   [[7, 8, 9], [10, 11, 12]]])\n",
    "result = np.hsplit(arr_3d, 2)\n",
    "for sub_arr in result:\n",
    "    print(sub_arr)"
   ]
  },
  {
   "cell_type": "code",
   "execution_count": 13,
   "id": "fd437f0f-367c-4b4f-bfe7-f70b69eac913",
   "metadata": {},
   "outputs": [
    {
     "name": "stdout",
     "output_type": "stream",
     "text": [
      "[ 1 11  3  4  5  6]\n",
      "[[ 1 11  3]\n",
      " [ 4  5  6]]\n"
     ]
    }
   ],
   "source": [
    "a = np.array([1, 2, 3, 4, 5, 6])\n",
    "b = a.view().reshape(2, 3)\n",
    "b[0, 1] = 11\n",
    "print(a)\n",
    "print(b)"
   ]
  },
  {
   "cell_type": "code",
   "execution_count": 16,
   "id": "f6d4032c-f611-430c-b4af-8e66805729f2",
   "metadata": {},
   "outputs": [
    {
     "name": "stdout",
     "output_type": "stream",
     "text": [
      "[ 1 11  3  4  5  6]\n",
      "[10 11  3  4  5  6]\n"
     ]
    }
   ],
   "source": [
    "b2 = a.copy()\n",
    "b2[0] = 10\n",
    "print(a)\n",
    "print(b2)"
   ]
  },
  {
   "cell_type": "code",
   "execution_count": 22,
   "id": "5a34eb72-d98f-4002-8ef3-11cf41083016",
   "metadata": {},
   "outputs": [
    {
     "name": "stdout",
     "output_type": "stream",
     "text": [
      "[ 10 121   9  16  25  36]\n",
      "217\n",
      "sum is 217\n"
     ]
    }
   ],
   "source": [
    "c = a * b2\n",
    "csum = c.sum(axis = 0)\n",
    "print(c)\n",
    "print(csum)\n",
    "print(f'sum is {csum}')"
   ]
  },
  {
   "cell_type": "code",
   "execution_count": 28,
   "id": "8d68b4ca-040d-4877-adb3-a6ac693a00f0",
   "metadata": {},
   "outputs": [
    {
     "name": "stdout",
     "output_type": "stream",
     "text": [
      "6\n",
      "[2 4]\n"
     ]
    },
    {
     "data": {
      "text/plain": [
       "array([3, 3])"
      ]
     },
     "execution_count": 28,
     "metadata": {},
     "output_type": "execute_result"
    }
   ],
   "source": [
    "t = np.array([[1, 1], [2, 2]])\n",
    "print(t.sum())\n",
    "print(t.sum(axis=1))\n",
    "t.sum(axis=0)"
   ]
  },
  {
   "cell_type": "code",
   "execution_count": 37,
   "id": "0ea58ee5-7430-4deb-8a0d-8735bb99652a",
   "metadata": {},
   "outputs": [
    {
     "name": "stdout",
     "output_type": "stream",
     "text": [
      "[[3 4]\n",
      " [6 8]]\n",
      "[[3 3]\n",
      " [8 8]]\n",
      "[3 4]\n"
     ]
    }
   ],
   "source": [
    "t2 = np.array([3, 4])\n",
    "t3 = np.array([[3], [4]])\n",
    "r1 = t * t2\n",
    "r2 = t * t3\n",
    "print(r1)\n",
    "print(r2)\n",
    "print(t2)"
   ]
  },
  {
   "cell_type": "code",
   "execution_count": 51,
   "id": "84166829-f0ff-4eef-be51-738530a1d090",
   "metadata": {},
   "outputs": [
    {
     "name": "stdout",
     "output_type": "stream",
     "text": [
      "[[3 4]\n",
      " [5 6]]\n",
      "[[3 4]\n",
      " [5 6]]\n",
      "[[3 4]\n",
      " [5 6]]\n",
      "[[3 4]]\n"
     ]
    }
   ],
   "source": [
    "data = np.array([[1, 2], \n",
    "                 [3, 4], \n",
    "                 [5, 6]])\n",
    "print(data[1:3, :])\n",
    "print(data[1:3])\n",
    "print(data[1:8])\n",
    "print(data[1:2])"
   ]
  },
  {
   "cell_type": "code",
   "execution_count": 52,
   "id": "f0480d9f-08be-4ebd-84ea-424d9ad98c7f",
   "metadata": {},
   "outputs": [
    {
     "data": {
      "text/plain": [
       "array([ 9, 12])"
      ]
     },
     "execution_count": 52,
     "metadata": {},
     "output_type": "execute_result"
    }
   ],
   "source": [
    "data.sum(axis=0)"
   ]
  },
  {
   "cell_type": "code",
   "execution_count": 58,
   "id": "1b4dc398-9628-4733-8490-d5b15db2db11",
   "metadata": {},
   "outputs": [
    {
     "name": "stdout",
     "output_type": "stream",
     "text": [
      "[0.26811007 0.70334941 0.16001023]\n",
      "[[0.53556672 0.70720825]\n",
      " [0.80324925 0.59614609]\n",
      " [0.09613958 0.50712753]]\n",
      "[[0.53556672 0.70720825]\n",
      " [0.80324925 0.59614609]\n",
      " [0.09613958 0.50712753]]\n"
     ]
    }
   ],
   "source": [
    "rng = np.random.default_rng()\n",
    "a1 = rng.random(3)\n",
    "print(a1)\n",
    "a2 = rng.random((3, 2))\n",
    "print(a2)\n",
    "a3 = rng.normal(0, 1, (3, 2))\n",
    "print(a2)"
   ]
  },
  {
   "cell_type": "code",
   "execution_count": 65,
   "id": "9c28a282-efb7-4205-998b-7e9c2cd3650c",
   "metadata": {},
   "outputs": [
    {
     "name": "stdout",
     "output_type": "stream",
     "text": [
      "[0.16001023 0.26811007 0.70334941]\n",
      "(3,)\n",
      "[-1.61397595 -0.98905654 -0.2182064   0.09447062  0.1334136   0.17914466]\n",
      "(6,)\n"
     ]
    }
   ],
   "source": [
    "unique_values = np.unique(a1)\n",
    "print(unique_values)\n",
    "print(unique_values.shape)\n",
    "unique_values2 = np.unique(a3)\n",
    "print(unique_values2)\n",
    "print(unique_values2.shape)"
   ]
  },
  {
   "cell_type": "code",
   "execution_count": 68,
   "id": "01f47a30-d96b-4c74-99d7-86de746f259c",
   "metadata": {},
   "outputs": [
    {
     "name": "stdout",
     "output_type": "stream",
     "text": [
      "(array([-1.61397595, -0.98905654, -0.2182064 ,  0.09447062,  0.1334136 ,\n",
      "        0.17914466]), array([5, 3, 2, 0, 4, 1]))\n",
      "(array([-1.61397595, -0.98905654, -0.2182064 ,  0.09447062,  0.1334136 ,\n",
      "        0.17914466]), array([1, 1, 1, 1, 1, 1]))\n"
     ]
    }
   ],
   "source": [
    "print(np.unique(a3, return_index=True))\n",
    "print(np.unique(a3, return_counts=True))"
   ]
  },
  {
   "cell_type": "code",
   "execution_count": 73,
   "id": "f81ff075-f6df-40f5-9958-284759d9e619",
   "metadata": {},
   "outputs": [
    {
     "name": "stdout",
     "output_type": "stream",
     "text": [
      "[[ 1  2  3  4]\n",
      " [ 1  2  3  5]\n",
      " [ 5  6  7  8]\n",
      " [ 9 10 11 12]]\n"
     ]
    }
   ],
   "source": [
    "a_2d = np.array([[1, 2, 3, 4], \n",
    "                 [5, 6, 7, 8], \n",
    "                 [9, 10, 11, 12], \n",
    "                 [1, 2, 3, 4], \n",
    "                 [1, 2, 3, 5]])\n",
    "unique_rows = np.unique(a_2d, axis=0)\n",
    "print(unique_rows)"
   ]
  }
 ],
 "metadata": {
  "kernelspec": {
   "display_name": "Python 3 (ipykernel)",
   "language": "python",
   "name": "python3"
  },
  "language_info": {
   "codemirror_mode": {
    "name": "ipython",
    "version": 3
   },
   "file_extension": ".py",
   "mimetype": "text/x-python",
   "name": "python",
   "nbconvert_exporter": "python",
   "pygments_lexer": "ipython3",
   "version": "3.11.9"
  }
 },
 "nbformat": 4,
 "nbformat_minor": 5
}
