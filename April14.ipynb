{
 "cells": [
  {
   "cell_type": "code",
   "execution_count": 1,
   "id": "d58eb11f-5b71-4010-8461-83a977322a44",
   "metadata": {},
   "outputs": [],
   "source": [
    "import numpy as np"
   ]
  },
  {
   "cell_type": "code",
   "execution_count": 8,
   "id": "3fe825e7-f9eb-442c-b180-3dc02acd8576",
   "metadata": {},
   "outputs": [
    {
     "name": "stdout",
     "output_type": "stream",
     "text": [
      "[[1 0 0 0]\n",
      " [0 2 0 0]\n",
      " [0 0 3 0]\n",
      " [0 0 0 4]]\n",
      "[[0 1 0 0]\n",
      " [0 0 2 0]\n",
      " [0 0 0 3]\n",
      " [0 0 0 0]]\n",
      "[1 4]\n"
     ]
    }
   ],
   "source": [
    "print(np.diag([1, 2, 3, 4]))\n",
    "print(np.diag([1, 2, 3], 1))\n",
    "a = np.array([[1, 2], [3, 4]])\n",
    "print(np.diag(a))"
   ]
  },
  {
   "cell_type": "code",
   "execution_count": 13,
   "id": "6e70c2cb-4591-4965-9e8c-0a5c80850341",
   "metadata": {},
   "outputs": [
    {
     "name": "stdout",
     "output_type": "stream",
     "text": [
      "[[0.  1. ]\n",
      " [0.5 1. ]\n",
      " [1.  1. ]\n",
      " [1.5 1. ]\n",
      " [2.  1. ]]\n",
      "[]\n",
      "[[1 1]\n",
      " [2 1]\n",
      " [3 1]\n",
      " [4 1]]\n",
      "[[ 1  1  1  1]\n",
      " [ 8  4  2  1]\n",
      " [27  9  3  1]\n",
      " [64 16  4  1]]\n"
     ]
    }
   ],
   "source": [
    "print(np.vander(np.linspace(0, 2, 5), 2))\n",
    "print(np.vander([1, 2, 3, 4], 0))\n",
    "print(np.vander([1, 2, 3, 4], 2))\n",
    "print(np.vander([1, 2, 3, 4], 4))"
   ]
  },
  {
   "cell_type": "code",
   "execution_count": 16,
   "id": "24c62494-b293-4e9b-b434-f603bbed2e57",
   "metadata": {},
   "outputs": [
    {
     "name": "stdout",
     "output_type": "stream",
     "text": [
      "[[[0 0 0 0]\n",
      "  [1 1 1 1]\n",
      "  [2 2 2 2]]\n",
      "\n",
      " [[0 1 2 3]\n",
      "  [0 1 2 3]\n",
      "  [0 1 2 3]]]\n"
     ]
    }
   ],
   "source": [
    "print(np.indices((3, 4)))"
   ]
  }
 ],
 "metadata": {
  "kernelspec": {
   "display_name": "Python 3 (ipykernel)",
   "language": "python",
   "name": "python3"
  },
  "language_info": {
   "codemirror_mode": {
    "name": "ipython",
    "version": 3
   },
   "file_extension": ".py",
   "mimetype": "text/x-python",
   "name": "python",
   "nbconvert_exporter": "python",
   "pygments_lexer": "ipython3",
   "version": "3.11.9"
  }
 },
 "nbformat": 4,
 "nbformat_minor": 5
}
