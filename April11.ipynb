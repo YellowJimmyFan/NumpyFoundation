{
 "cells": [
  {
   "cell_type": "code",
   "execution_count": 1,
   "id": "e2812946-cf41-4a3f-935e-060dbe1de853",
   "metadata": {},
   "outputs": [],
   "source": [
    "import numpy as np"
   ]
  },
  {
   "cell_type": "code",
   "execution_count": 11,
   "id": "25b07612-1155-4a1d-9ec9-32848bf9f2eb",
   "metadata": {},
   "outputs": [
    {
     "name": "stdout",
     "output_type": "stream",
     "text": [
      "[[[ 1  2  3]\n",
      "  [ 4  5  6]\n",
      "  [ 7  8  9]]\n",
      "\n",
      " [[11 22 33]\n",
      "  [44 55 66]\n",
      "  [77 88 99]]]\n",
      "[[[ 1  2  3]\n",
      "  [ 4  5  6]]\n",
      "\n",
      " [[ 7  8  9]\n",
      "  [11 22 33]]\n",
      "\n",
      " [[44 55 66]\n",
      "  [77 88 99]]]\n",
      "tp data:\n",
      " [[[ 1  7 44]\n",
      "  [ 4 11 77]]\n",
      "\n",
      " [[ 2  8 55]\n",
      "  [ 5 22 88]]\n",
      "\n",
      " [[ 3  9 66]\n",
      "  [ 6 33 99]]]\n"
     ]
    }
   ],
   "source": [
    "a = np.array([[[1, 2, 3],\n",
    "               [4, 5, 6],\n",
    "               [7, 8, 9]],\n",
    "              [[11, 22, 33],\n",
    "               [44, 55, 66],\n",
    "               [77, 88, 99]]])\n",
    "data = a.reshape(3, 2, -1)\n",
    "print(a)\n",
    "print(data)\n",
    "print(\"tped data:\\n\", data.T)"
   ]
  },
  {
   "cell_type": "code",
   "execution_count": 16,
   "id": "b6ceddf2-01ae-4e55-ae70-b86d2d1991fa",
   "metadata": {},
   "outputs": [
    {
     "name": "stdout",
     "output_type": "stream",
     "text": [
      "tped data2:\n",
      " [[[ 1  2  3]\n",
      "  [ 7  8  9]\n",
      "  [44 55 66]]\n",
      "\n",
      " [[ 4  5  6]\n",
      "  [11 22 33]\n",
      "  [77 88 99]]]\n"
     ]
    }
   ],
   "source": [
    "data2 = data.transpose((1, 0, 2))\n",
    "print(\"tped data2:\\n\", data2)"
   ]
  },
  {
   "cell_type": "code",
   "execution_count": 25,
   "id": "afbb3d43-aa6b-4cb5-834e-2c81f2fd7386",
   "metadata": {},
   "outputs": [
    {
     "name": "stdout",
     "output_type": "stream",
     "text": [
      "org data: [[[ 1  2  3]\n",
      "  [ 7  8  9]\n",
      "  [44 55 66]]\n",
      "\n",
      " [[ 4  5  6]\n",
      "  [11 22 33]\n",
      "  [77 88 99]]]\n",
      "fped data:\n",
      " [[[99 88 77]\n",
      "  [33 22 11]\n",
      "  [ 6  5  4]]\n",
      "\n",
      " [[66 55 44]\n",
      "  [ 9  8  7]\n",
      "  [ 3  2  1]]]\n",
      "fped data2:\n",
      " [[[77 88 99]\n",
      "  [11 22 33]\n",
      "  [ 4  5  6]]\n",
      "\n",
      " [[44 55 66]\n",
      "  [ 7  8  9]\n",
      "  [ 1  2  3]]]\n"
     ]
    }
   ],
   "source": [
    "flip = np.flip(data2)\n",
    "flip2 = np.flip(data2, (0, 1))\n",
    "print('org data:', data2)\n",
    "print(\"fped data:\\n\", flip)\n",
    "print(\"fped data2:\\n\", flip2)"
   ]
  },
  {
   "cell_type": "code",
   "execution_count": 39,
   "id": "a464fd80-acb0-4da9-a22d-6722bdfb88fe",
   "metadata": {},
   "outputs": [
    {
     "name": "stdout",
     "output_type": "stream",
     "text": [
      "org flp2: \n",
      " [[[77 88 99]\n",
      "  [11 22 33]\n",
      "  [ 4  5  6]]\n",
      "\n",
      " [[44 55 66]\n",
      "  [ 7  8  9]\n",
      "  [ 1  2  3]]]\n",
      "flt:\n",
      " [77 88 99 11 22 33  4  5  6 44 55 66  7  8  9  1  2  3]\n",
      "flt2:\n",
      " [77 88 99 11 22 33  4  5  6 44 55 66  7  8  9  1  2  3]\n",
      "org flp2: \n",
      " [[[77 88 99]\n",
      "  [11 22 33]\n",
      "  [ 4  5  6]]\n",
      "\n",
      " [[44 55 66]\n",
      "  [ 7  8  9]\n",
      "  [ 1  2  3]]]\n",
      "reflt:\n",
      " [77 88 99 11 22 33  4  5  6 44 55 66  7  8  9  1  2  3]\n",
      "reflt2:\n",
      " [ 77 -99  99  11  22  33   4   5   6  44  55  66   7   8   9   1   2   3]\n",
      "data2:\n",
      " [[[ 1  2  3]\n",
      "  [ 4  5  6]]\n",
      "\n",
      " [[ 7  8  9]\n",
      "  [11 22 33]]\n",
      "\n",
      " [[44 55 66]\n",
      "  [77 88 99]]]\n"
     ]
    }
   ],
   "source": [
    "flt = flip2.flatten()\n",
    "flt2 = flip2.ravel()\n",
    "print(\"org flp2: \\n\", flip2)\n",
    "print(\"flt:\\n\", flt)\n",
    "print(\"flt2:\\n\", flt2)\n",
    "flt2[1] = -99\n",
    "print(\"org flp2: \\n\", flip2)\n",
    "print(\"reflt:\\n\", flt)\n",
    "print(\"reflt2:\\n\", flt2)\n",
    "print(\"data2:\\n\", data)"
   ]
  },
  {
   "cell_type": "code",
   "execution_count": 37,
   "id": "5dc839ca-8966-49bd-b1c0-1f7989a790e3",
   "metadata": {},
   "outputs": [
    {
     "name": "stdout",
     "output_type": "stream",
     "text": [
      "a \n",
      " [[1 2]\n",
      " [3 4]]\n",
      "flta \n",
      " [1 2 3 4]\n",
      "a \n",
      " [[  1 -99]\n",
      " [  3   4]]\n",
      "flta \n",
      " [  1 -99   3   4]\n"
     ]
    }
   ],
   "source": [
    "a = np.array([[1, 2],\n",
    "              [3, 4]])\n",
    "flta = a.ravel()\n",
    "\n",
    "print(\"a \\n\", a)\n",
    "print(\"flta \\n\", flta)\n",
    "\n",
    "flta[1] = -99\n",
    "print(\"a \\n\", a)\n",
    "print(\"flta \\n\", flta)"
   ]
  },
  {
   "cell_type": "code",
   "execution_count": 40,
   "id": "85f60b30-efaf-401c-84fe-6064617000b7",
   "metadata": {},
   "outputs": [
    {
     "name": "stdout",
     "output_type": "stream",
     "text": [
      "a \n",
      " [[[  1 -99   3]\n",
      "  [  4   5   6]\n",
      "  [  7   8   9]]\n",
      "\n",
      " [[ 11  22  33]\n",
      "  [ 44  55  66]\n",
      "  [ 77  88  99]]]\n",
      "data \n",
      " [[[  1 -99   3]\n",
      "  [  4   5   6]]\n",
      "\n",
      " [[  7   8   9]\n",
      "  [ 11  22  33]]\n",
      "\n",
      " [[ 44  55  66]\n",
      "  [ 77  88  99]]]\n",
      "t1 \n",
      " [  1 -99   3   4   5   6   7   8   9  11  22  33  44  55  66  77  88  99]\n"
     ]
    }
   ],
   "source": [
    "## 注意这个ravel创造的是视图，是对原数据的引用，改变ravel()后的数组会影响前面所有数组\n",
    "a = np.array([[[1, 2, 3],\n",
    "               [4, 5, 6],\n",
    "               [7, 8, 9]],\n",
    "              [[11, 22, 33],\n",
    "               [44, 55, 66],\n",
    "               [77, 88, 99]]])\n",
    "data = a.reshape(3, 2, -1)\n",
    "t1 = data.ravel()\n",
    "t1[1] = -99\n",
    "print(\"a \\n\", a)\n",
    "print(\"data \\n\", data)\n",
    "print(\"t1 \\n\", t1)"
   ]
  },
  {
   "cell_type": "code",
   "execution_count": 42,
   "id": "6fe1674f-3693-4651-9dc2-35e0288939c0",
   "metadata": {},
   "outputs": [
    {
     "name": "stdout",
     "output_type": "stream",
     "text": [
      "a \n",
      " [[[ 1  2  3]\n",
      "  [ 4  5  6]\n",
      "  [ 7  8  9]]\n",
      "\n",
      " [[11 22 33]\n",
      "  [44 55 66]\n",
      "  [77 88 99]]]\n",
      "data \n",
      " [[[ 1  2  3]\n",
      "  [ 4  5  6]]\n",
      "\n",
      " [[ 7  8  9]\n",
      "  [11 22 33]]\n",
      "\n",
      " [[44 55 66]\n",
      "  [77 88 99]]]\n",
      "data2 \n",
      " [[[ 1  2  3]\n",
      "  [ 7  8  9]\n",
      "  [44 55 66]]\n",
      "\n",
      " [[ 4  5  6]\n",
      "  [11 22 33]\n",
      "  [77 88 99]]]\n",
      "t1 \n",
      " [  1 -99   3   7   8   9  44  55  66   4   5   6  11  22  33  77  88  99]\n"
     ]
    }
   ],
   "source": [
    "## 注意这个ravel()创造的是copy,改变ravel()后的数组内容不影响原来的数组but why?\n",
    "a = np.array([[[1, 2, 3],\n",
    "               [4, 5, 6],\n",
    "               [7, 8, 9]],\n",
    "              [[11, 22, 33],\n",
    "               [44, 55, 66],\n",
    "               [77, 88, 99]]])\n",
    "data = a.reshape(3, 2, -1)\n",
    "data2 = data.transpose((1, 0, 2))##只多了transpose()\n",
    "t1 = data2.ravel()\n",
    "t1[1] = -99\n",
    "print(\"a \\n\", a)\n",
    "print(\"data \\n\", data)\n",
    "print(\"data2 \\n\", data2)\n",
    "print(\"t1 \\n\", t1)"
   ]
  },
  {
   "cell_type": "code",
   "execution_count": 47,
   "id": "0ee1ba5c-e8de-4ba1-99e7-8fd5854ff2a4",
   "metadata": {},
   "outputs": [
    {
     "data": {
      "text/plain": [
       "\u001b[1;31mSignature:\u001b[0m \u001b[0mdouble\u001b[0m\u001b[1;33m(\u001b[0m\u001b[0ma\u001b[0m\u001b[1;33m)\u001b[0m\u001b[1;33m\u001b[0m\u001b[1;33m\u001b[0m\u001b[0m\n",
       "\u001b[1;31mSource:\u001b[0m   \n",
       "\u001b[1;32mdef\u001b[0m \u001b[0mdouble\u001b[0m\u001b[1;33m(\u001b[0m\u001b[0ma\u001b[0m\u001b[1;33m)\u001b[0m\u001b[1;33m:\u001b[0m\u001b[1;33m\n",
       "\u001b[0m  \u001b[1;34m'''Return a * 2'''\u001b[0m\u001b[1;33m\n",
       "\u001b[0m  \u001b[1;32mreturn\u001b[0m \u001b[0ma\u001b[0m \u001b[1;33m*\u001b[0m \u001b[1;36m2\u001b[0m\u001b[1;33m\u001b[0m\u001b[1;33m\u001b[0m\u001b[0m\n",
       "\u001b[1;31mFile:\u001b[0m      c:\\users\\12162\\appdata\\local\\temp\\ipykernel_25136\\421522582.py\n",
       "\u001b[1;31mType:\u001b[0m      function"
      ]
     },
     "metadata": {},
     "output_type": "display_data"
    }
   ],
   "source": [
    "def double(a):\n",
    "  '''Return a * 2'''\n",
    "  return a * 2\n",
    "double??"
   ]
  }
 ],
 "metadata": {
  "kernelspec": {
   "display_name": "Python 3 (ipykernel)",
   "language": "python",
   "name": "python3"
  },
  "language_info": {
   "codemirror_mode": {
    "name": "ipython",
    "version": 3
   },
   "file_extension": ".py",
   "mimetype": "text/x-python",
   "name": "python",
   "nbconvert_exporter": "python",
   "pygments_lexer": "ipython3",
   "version": "3.11.9"
  }
 },
 "nbformat": 4,
 "nbformat_minor": 5
}
